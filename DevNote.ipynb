{
 "cells": [
  {
   "cell_type": "code",
   "execution_count": 5,
   "metadata": {},
   "outputs": [],
   "source": [
    "%run NoteG.ipynb"
   ]
  },
  {
   "cell_type": "code",
   "execution_count": 6,
   "metadata": {},
   "outputs": [],
   "source": [
    "tile ='images/grass.png'\n",
    "createMap(tile)\n",
    "\n",
    "char_sheet =\"images/walk_mage.png\"\n",
    "createPlayer(char_sheet,250,250)"
   ]
  },
  {
   "cell_type": "code",
   "execution_count": 9,
   "metadata": {},
   "outputs": [
    {
     "name": "stdout",
     "output_type": "stream",
     "text": [
      "Object is at postion 6\n"
     ]
    }
   ],
   "source": [
    "img_fireball=Trinket(image=\"images/fireball.png\")\n",
    "game.scene.append(img_fireball)\n",
    "fireball=Trinket(shape=\"circle\",speed=2, center=(15,30),color=(255,255,255),radius=20)\n",
    "game.scene.append(fireball)\n",
    "enemy_bullets.add(fireball)\n",
    "enemy_bullets.add(img_fireball)\n",
    "print(\"Object is at position \"+ str(len(game.scene)-1))"
   ]
  },
  {
   "cell_type": "code",
   "execution_count": 15,
   "metadata": {},
   "outputs": [],
   "source": [
    "game.scene[-1].color = (255,0,0)"
   ]
  },
  {
   "cell_type": "code",
   "execution_count": 1,
   "metadata": {},
   "outputs": [],
   "source": [
    "# game.refresh_scene()\n",
    "# createMap()\n",
    "# createPlayer()\n",
    "# addTrinket()\n",
    "# addCollectible()\n",
    "# spawnEnemy()\n",
    "# hotSwapLogic()"
   ]
  },
  {
   "cell_type": "code",
   "execution_count": 17,
   "metadata": {},
   "outputs": [],
   "source": []
  },
  {
   "cell_type": "code",
   "execution_count": null,
   "metadata": {},
   "outputs": [],
   "source": []
  }
 ],
 "metadata": {
  "kernelspec": {
   "display_name": "Python 3",
   "language": "python",
   "name": "python3"
  },
  "language_info": {
   "codemirror_mode": {
    "name": "ipython",
    "version": 3
   },
   "file_extension": ".py",
   "mimetype": "text/x-python",
   "name": "python",
   "nbconvert_exporter": "python",
   "pygments_lexer": "ipython3",
   "version": "3.6.8"
  }
 },
 "nbformat": 4,
 "nbformat_minor": 4
}
