{
 "cells": [
  {
   "cell_type": "code",
   "execution_count": 32,
   "metadata": {},
   "outputs": [],
   "source": [
    "%run NoteGC.ipynb"
   ]
  },
  {
   "cell_type": "code",
   "execution_count": 33,
   "metadata": {},
   "outputs": [],
   "source": [
    "# Make sure to close pygame window if open\n",
    "# Params : startGame(display_width=500,display_height=500,window_color=(0,0,0))\n",
    "startGame(500,500)"
   ]
  },
  {
   "cell_type": "code",
   "execution_count": 3,
   "metadata": {},
   "outputs": [],
   "source": [
    "char_sheet =\"images/walk_mage_key.png\"\n",
    "createPlayer('Alex',char_sheet,200,250)"
   ]
  },
  {
   "cell_type": "code",
   "execution_count": 18,
   "metadata": {},
   "outputs": [],
   "source": [
    "grass = pygame.image.load(\"images/grass.png\").convert()\n",
    "floor_one = pygame.image.load(\"images/floor_one.bmp\").convert()\n",
    "wall_bottom = pygame.image.load(\"images/wall_bottom.bmp\").convert()\n",
    "wall_right = pygame.image.load(\"images/wall_right.bmp\").convert()\n",
    "wall_top = pygame.image.load(\"images/wall_top.bmp\").convert()\n",
    "wall_left =pygame.image.load(\"images/wall_left.bmp\").convert()\n",
    "arrow_img = pygame.image.load(\"images/arrow_left.png\").convert()\n",
    "\n",
    "createMap(tile_map,grass,floor_one,wall_bottom,wall_right,wall_top,wall_left)"
   ]
  },
  {
   "cell_type": "code",
   "execution_count": 5,
   "metadata": {},
   "outputs": [],
   "source": [
    "fireball=Trinket(shape=\"circle\",speed=2, center=(15,30),color=(255,255,255),radius=20)\n",
    "game.scene.append(fireball)"
   ]
  },
  {
   "cell_type": "code",
   "execution_count": 14,
   "metadata": {},
   "outputs": [],
   "source": [
    "img_fireball=Trinket(image=\"images/fireball.png\")\n",
    "game.scene.append(img_fireball)"
   ]
  },
  {
   "cell_type": "code",
   "execution_count": 6,
   "metadata": {},
   "outputs": [],
   "source": [
    "game.refresh_scene(\"images/grass.png\")"
   ]
  },
  {
   "cell_type": "code",
   "execution_count": 7,
   "metadata": {},
   "outputs": [],
   "source": [
    "stopBullets()  "
   ]
  },
  {
   "cell_type": "code",
   "execution_count": 8,
   "metadata": {},
   "outputs": [],
   "source": [
    "for bullet in player_bullets:\n",
    "        bullet.kill()"
   ]
  },
  {
   "cell_type": "code",
   "execution_count": 9,
   "metadata": {},
   "outputs": [],
   "source": [
    "water = pygame.image.load(\"images/arrow_water.png\").convert()\n",
    "fairydust = pygame.image.load(\"images/arrow_pink.png\").convert()"
   ]
  },
  {
   "cell_type": "code",
   "execution_count": 12,
   "metadata": {},
   "outputs": [],
   "source": [
    "changeElement(water)"
   ]
  },
  {
   "cell_type": "code",
   "execution_count": 13,
   "metadata": {
    "scrolled": false
   },
   "outputs": [
    {
     "name": "stdout",
     "output_type": "stream",
     "text": [
      "class modification\n"
     ]
    },
    {
     "data": {
      "text/html": [
       "\n",
       "        <script>\n",
       "            function code_toggle_13384108965561217132() {\n",
       "                $('div.cell.code_cell.rendered.selected').find('div.input').toggle();\n",
       "            }\n",
       "\n",
       "            \n",
       "        </script>\n",
       "\n",
       "        <a href=\"javascript:code_toggle_13384108965561217132()\">Toggle show/hide</a>\n",
       "    "
      ],
      "text/plain": [
       "<IPython.core.display.HTML object>"
      ]
     },
     "execution_count": 13,
     "metadata": {},
     "output_type": "execute_result"
    }
   ],
   "source": [
    "print(\"class modification\")\n",
    "class Bullet(Bullet):\n",
    "#     def scrolling(self):\n",
    "#         self.rect.x += -player.speedx\n",
    "#         self.rect.y += -player.speedy\n",
    "    def __init__(self, x, y):\n",
    "            pygame.sprite.Sprite.__init__(self)\n",
    "            self.image = pygame.transform.scale(element, (60, 20))\n",
    "            self.image.set_colorkey(DARK_GREEN)\n",
    "            self.rect = self.image.get_rect()\n",
    "            self.rect.bottom = y\n",
    "            self.rect.centerx = x\n",
    "            self.speedx = 0\n",
    "            self.speedy = 0\n",
    "            self.flipx = False\n",
    "\n",
    "            if player.direction == \"left\":\n",
    "                self.speedx = -5\n",
    "                self.image = pygame.transform.rotate(self.image, 0)\n",
    "\n",
    "            if player.direction == \"right\":\n",
    "                self.speedx = 5\n",
    "                self.image = pygame.transform.rotate(self.image, 180)\n",
    "\n",
    "            if player.direction == \"up\":\n",
    "                self.speedy = -5\n",
    "                self.image = pygame.transform.rotate(self.image, -90)\n",
    "\n",
    "            if player.direction == \"down\":\n",
    "                self.speedy = 5\n",
    "                self.image = pygame.transform.rotate(self.image, 90)\n",
    "hide()"
   ]
  },
  {
   "cell_type": "code",
   "execution_count": null,
   "metadata": {},
   "outputs": [],
   "source": [
    "# Pending EnemyAI and collectibles class"
   ]
  },
  {
   "cell_type": "code",
   "execution_count": 34,
   "metadata": {},
   "outputs": [],
   "source": [
    "grass = pygame.image.load(\"images/grass.png\").convert()\n",
    "floor_one = pygame.image.load(\"images/floor_one.bmp\").convert()\n",
    "wall_bottom = pygame.image.load(\"images/wall_bottom.bmp\").convert()\n",
    "wall_right = pygame.image.load(\"images/wall_right.bmp\").convert()\n",
    "wall_top = pygame.image.load(\"images/wall_top.bmp\").convert()\n",
    "wall_left =pygame.image.load(\"images/wall_left.bmp\").convert()\n",
    "arrow_img = pygame.image.load(\"images/arrow_left.png\").convert()\n",
    "fairydust = pygame.image.load(\"images/arrow_pink.png\").convert()\n",
    "createMap(tile_map,grass,floor_one,wall_bottom,wall_right,wall_top,wall_left)"
   ]
  },
  {
   "cell_type": "code",
   "execution_count": 35,
   "metadata": {},
   "outputs": [],
   "source": [
    "char_sheet =\"images/lpc.png\"\n",
    "createPlayer('Alex',char_sheet,200,250)"
   ]
  },
  {
   "cell_type": "code",
   "execution_count": 36,
   "metadata": {},
   "outputs": [
    {
     "name": "stderr",
     "output_type": "stream",
     "text": [
      "Traceback (most recent call last):\n",
      "  File \"<ipython-input-32-be2cb42a60e0>\", line 98, in display\n",
      "    self.update()\n",
      "  File \"<ipython-input-32-be2cb42a60e0>\", line 68, in update\n",
      "    all_sprites.update()\n",
      "  File \"c:\\users\\noble saji mathews\\.pyenv\\pyenv-win\\versions\\3.6.8\\lib\\site-packages\\pygame\\sprite.py\", line 531, in update\n",
      "    sprite.update(*args, **kwargs)\n",
      "  File \"<ipython-input-32-2d7b278aed79>\", line 110, in update\n",
      "    self.shoot()\n",
      "  File \"<ipython-input-32-2d7b278aed79>\", line 146, in shoot\n",
      "    bullet = Bullet(self,self.rect.centerx, self.rect.centery + 35)\n",
      "  File \"<ipython-input-32-4f481a841359>\", line 6, in __init__\n",
      "    self.image = pygame.transform.scale(fairydust, (60, 20))\n",
      "NameError: name 'fairydust' is not defined\n",
      "Traceback (most recent call last):\n",
      "  File \"<ipython-input-32-be2cb42a60e0>\", line 98, in display\n",
      "    self.update()\n",
      "  File \"<ipython-input-32-be2cb42a60e0>\", line 68, in update\n",
      "    all_sprites.update()\n",
      "  File \"c:\\users\\noble saji mathews\\.pyenv\\pyenv-win\\versions\\3.6.8\\lib\\site-packages\\pygame\\sprite.py\", line 531, in update\n",
      "    sprite.update(*args, **kwargs)\n",
      "  File \"<ipython-input-32-2d7b278aed79>\", line 110, in update\n",
      "    self.shoot()\n",
      "  File \"<ipython-input-32-2d7b278aed79>\", line 146, in shoot\n",
      "    bullet = Bullet(self,self.rect.centerx, self.rect.centery + 35)\n",
      "  File \"<ipython-input-32-4f481a841359>\", line 6, in __init__\n",
      "    self.image = pygame.transform.scale(fairydust, (60, 20))\n",
      "NameError: name 'fairydust' is not defined\n",
      "Traceback (most recent call last):\n",
      "  File \"<ipython-input-32-be2cb42a60e0>\", line 98, in display\n",
      "    self.update()\n",
      "  File \"<ipython-input-32-be2cb42a60e0>\", line 68, in update\n",
      "    all_sprites.update()\n",
      "  File \"c:\\users\\noble saji mathews\\.pyenv\\pyenv-win\\versions\\3.6.8\\lib\\site-packages\\pygame\\sprite.py\", line 531, in update\n",
      "    sprite.update(*args, **kwargs)\n",
      "  File \"<ipython-input-32-2d7b278aed79>\", line 110, in update\n",
      "    self.shoot()\n",
      "  File \"<ipython-input-32-2d7b278aed79>\", line 146, in shoot\n",
      "    bullet = Bullet(self,self.rect.centerx, self.rect.centery + 35)\n",
      "  File \"<ipython-input-32-4f481a841359>\", line 6, in __init__\n",
      "    self.image = pygame.transform.scale(fairydust, (60, 20))\n",
      "NameError: name 'fairydust' is not defined\n"
     ]
    }
   ],
   "source": [
    "char_sheet =\"images/ghost.png\"\n",
    "createEnemy(char_sheet,150,150,True)"
   ]
  },
  {
   "cell_type": "code",
   "execution_count": null,
   "metadata": {},
   "outputs": [],
   "source": []
  }
 ],
 "metadata": {
  "kernelspec": {
   "display_name": "Python 3",
   "language": "python",
   "name": "python3"
  },
  "language_info": {
   "codemirror_mode": {
    "name": "ipython",
    "version": 3
   },
   "file_extension": ".py",
   "mimetype": "text/x-python",
   "name": "python",
   "nbconvert_exporter": "python",
   "pygments_lexer": "ipython3",
   "version": "3.6.8"
  }
 },
 "nbformat": 4,
 "nbformat_minor": 4
}
